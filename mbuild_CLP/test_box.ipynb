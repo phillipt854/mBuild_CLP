{
 "cells": [
  {
   "cell_type": "code",
   "execution_count": 1,
   "metadata": {},
   "outputs": [
    {
     "data": {
      "application/vnd.jupyter.widget-view+json": {
       "model_id": "86866ae21eb7408ba3b059eba10bd843",
       "version_major": 2,
       "version_minor": 0
      },
      "text/plain": []
     },
     "metadata": {},
     "output_type": "display_data"
    }
   ],
   "source": [
    "from mbuild_CLP import *\n",
    "from foyer import Forcefield\n",
    "test_box = CLP_box(['PKGPOGDOG'],[1,1,1],[1,1])\n",
    "#test_box.visualize()"
   ]
  },
  {
   "cell_type": "code",
   "execution_count": 2,
   "metadata": {},
   "outputs": [
    {
     "name": "stdout",
     "output_type": "stream",
     "text": [
      "['_BBP', '_HBP', '_BBK', '_BBG', '_HBG', '_BBP', '_HBP', '_BBO', '_BBG', '_HBG', '_BBD', '_HBP', '_BBO', '_BBG', '_HBG', '_BBP', '_HBP', '_BBK', '_BBG', '_HBG', '_BBP', '_HBP', '_BBO', '_BBG', '_HBG', '_BBD', '_HBP', '_BBO', '_BBG', '_HBG', '_BBP', '_HBP', '_BBK', '_BBG', '_HBG', '_BBP', '_HBP', '_BBO', '_BBG', '_HBG', '_BBD', '_HBP', '_BBO', '_BBG', '_HBG', '_INC', '_INA']\n"
     ]
    }
   ],
   "source": [
    "a = [atom.name for atom in test_box.particles()]\n",
    "print(a)"
   ]
  },
  {
   "cell_type": "code",
   "execution_count": 3,
   "metadata": {},
   "outputs": [
    {
     "name": "stderr",
     "output_type": "stream",
     "text": [
      "/home/phillipt/mosdef/foyer/foyer/forcefield.py:473: UserWarning: Non-atomistic element type detected. Creating custom element for _BBP\n",
      "  'Creating custom element for {}'.format(element))\n",
      "/home/phillipt/mosdef/foyer/foyer/forcefield.py:473: UserWarning: Non-atomistic element type detected. Creating custom element for _BBO\n",
      "  'Creating custom element for {}'.format(element))\n",
      "/home/phillipt/mosdef/foyer/foyer/forcefield.py:473: UserWarning: Non-atomistic element type detected. Creating custom element for _BBG\n",
      "  'Creating custom element for {}'.format(element))\n",
      "/home/phillipt/mosdef/foyer/foyer/forcefield.py:473: UserWarning: Non-atomistic element type detected. Creating custom element for _BBK\n",
      "  'Creating custom element for {}'.format(element))\n",
      "/home/phillipt/mosdef/foyer/foyer/forcefield.py:473: UserWarning: Non-atomistic element type detected. Creating custom element for _BBD\n",
      "  'Creating custom element for {}'.format(element))\n",
      "/home/phillipt/mosdef/foyer/foyer/forcefield.py:473: UserWarning: Non-atomistic element type detected. Creating custom element for _HBP\n",
      "  'Creating custom element for {}'.format(element))\n",
      "/home/phillipt/mosdef/foyer/foyer/forcefield.py:473: UserWarning: Non-atomistic element type detected. Creating custom element for _HBG\n",
      "  'Creating custom element for {}'.format(element))\n",
      "/home/phillipt/mosdef/foyer/foyer/forcefield.py:473: UserWarning: Non-atomistic element type detected. Creating custom element for _INC\n",
      "  'Creating custom element for {}'.format(element))\n",
      "/home/phillipt/mosdef/foyer/foyer/forcefield.py:473: UserWarning: Non-atomistic element type detected. Creating custom element for _INA\n",
      "  'Creating custom element for {}'.format(element))\n",
      "/home/phillipt/mosdef/foyer/foyer/forcefield.py:449: UserWarning: No force field version number found in force field XML file.\n",
      "  'No force field version number found in force field XML file.'\n",
      "/home/phillipt/mosdef/foyer/foyer/forcefield.py:461: UserWarning: No force field name found in force field XML file.\n",
      "  'No force field name found in force field XML file.'\n"
     ]
    }
   ],
   "source": [
    "cgff = Forcefield(forcefield_files='/home/phillipt/mosdef/foyer_clp/CLP.xml')"
   ]
  },
  {
   "cell_type": "code",
   "execution_count": 4,
   "metadata": {},
   "outputs": [
    {
     "name": "stderr",
     "output_type": "stream",
     "text": [
      "/home/phillipt/mosdef/mbuild/mbuild/compound.py:2516: UserWarning: Guessing that \"<_BBP pos=(-0.7286, 1.5000,-0.0740), 0 bonds, id: 139695253743544>\" is element: \"EP\"\n",
      "  atom, element))\n",
      "/home/phillipt/mosdef/mbuild/mbuild/compound.py:2516: UserWarning: Guessing that \"<_HBP pos=(-0.4082, 1.5000, 0.1110), 0 bonds, id: 139695253862216>\" is element: \"EP\"\n",
      "  atom, element))\n",
      "/home/phillipt/mosdef/mbuild/mbuild/compound.py:2516: UserWarning: Guessing that \"<_BBK pos=(-0.7286, 1.0000,-0.0740), 0 bonds, id: 139695253864232>\" is element: \"EP\"\n",
      "  atom, element))\n",
      "/home/phillipt/mosdef/mbuild/mbuild/compound.py:2516: UserWarning: Guessing that \"<_BBG pos=(-0.7286, 0.5000,-0.0740), 0 bonds, id: 139695254360136>\" is element: \"EP\"\n",
      "  atom, element))\n",
      "/home/phillipt/mosdef/mbuild/mbuild/compound.py:2516: UserWarning: Guessing that \"<_HBG pos=(-0.4082, 0.5000, 0.1110), 0 bonds, id: 139695254362824>\" is element: \"EP\"\n",
      "  atom, element))\n",
      "/home/phillipt/mosdef/mbuild/mbuild/compound.py:2516: UserWarning: Guessing that \"<_BBO pos=(-0.7286,-0.5000,-0.0740), 0 bonds, id: 139695254433632>\" is element: \"EP\"\n",
      "  atom, element))\n",
      "/home/phillipt/mosdef/mbuild/mbuild/compound.py:2516: UserWarning: Guessing that \"<_BBD pos=(-0.7286,-1.5000,-0.0740), 0 bonds, id: 139695254564200>\" is element: \"EP\"\n",
      "  atom, element))\n",
      "/home/phillipt/mosdef/mbuild/mbuild/compound.py:2516: UserWarning: Guessing that \"<_INC pos=( 2.0000, 1.0000, 1.0000), 0 bonds, id: 139695193287200>\" is element: \"EP\"\n",
      "  atom, element))\n",
      "/home/phillipt/mosdef/mbuild/mbuild/compound.py:2516: UserWarning: Guessing that \"<_INA pos=( 3.5000, 1.0000, 1.0000), 0 bonds, id: 139695193764416>\" is element: \"EP\"\n",
      "  atom, element))\n",
      "/home/phillipt/mosdef/foyer/foyer/forcefield.py:267: UserWarning: Parameters have not been assigned to all proper dihedrals. Total system dihedrals: 54, Parameterized dihedrals: 6. Note that if your system contains torsions of Ryckaert-Bellemans functional form, all of these torsions are processed as propers.\n",
      "  warnings.warn(msg)\n",
      "/home/phillipt/mosdef/foyer/foyer/forcefield.py:267: UserWarning: Parameters have not been assigned to all impropers. Total system impropers: 12, Parameterized impropers: 0. Note that if your system contains torsions of Ryckaert-Bellemans functional form, all of these torsions are processed as propers\n",
      "  warnings.warn(msg)\n"
     ]
    }
   ],
   "source": [
    "testBox_typed =cgff.apply(test_box,assert_dihedral_params=False)"
   ]
  },
  {
   "cell_type": "code",
   "execution_count": 6,
   "metadata": {},
   "outputs": [
    {
     "name": "stdout",
     "output_type": "stream",
     "text": [
      "No urey bradley terms detected, will use angle_style harmonic\n",
      "Charmm dihedrals detected, will use dihedral_style charmm\n"
     ]
    }
   ],
   "source": [
    "mb.formats.lammpsdata.write_lammpsdata(testBox_typed,'/home/phillipt/mosdef/foyer_clp/CLP.lammps',atom_style='full',unit_style='lj',sigma_conversion_factor=1,epsilon_conversion_factor=1,mass_conversion_factor=1\n",
    ")"
   ]
  },
  {
   "cell_type": "code",
   "execution_count": null,
   "metadata": {},
   "outputs": [],
   "source": []
  }
 ],
 "metadata": {
  "kernelspec": {
   "display_name": "Python 3",
   "language": "python",
   "name": "python3"
  },
  "language_info": {
   "codemirror_mode": {
    "name": "ipython",
    "version": 3
   },
   "file_extension": ".py",
   "mimetype": "text/x-python",
   "name": "python",
   "nbconvert_exporter": "python",
   "pygments_lexer": "ipython3",
   "version": "3.6.10"
  }
 },
 "nbformat": 4,
 "nbformat_minor": 2
}
