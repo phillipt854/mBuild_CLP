{
 "cells": [
  {
   "cell_type": "code",
   "execution_count": null,
   "metadata": {},
   "outputs": [],
   "source": [
    "from mbuild_CLP import *\n",
    "from foyer import Forcefield\n",
    "test_box = CLP_box(['PKGPOGDOG'],[1,1,1],[1,1])\n",
    "test_box.visualize()"
   ]
  },
  {
   "cell_type": "code",
   "execution_count": null,
   "metadata": {},
   "outputs": [],
   "source": [
    "a = [atom.name for atom in test_box.particles()]\n",
    "print(a)"
   ]
  },
  {
   "cell_type": "code",
   "execution_count": null,
   "metadata": {},
   "outputs": [],
   "source": [
    "cgff = Forcefield(forcefield_files='/home/phillipt/mosdef/foyer_clp/CLP.xml')"
   ]
  },
  {
   "cell_type": "code",
   "execution_count": null,
   "metadata": {},
   "outputs": [],
   "source": [
    "testBox_typed =cgff.apply(test_box,assert_dihedral_params=False)"
   ]
  },
  {
   "cell_type": "code",
   "execution_count": null,
   "metadata": {},
   "outputs": [],
   "source": [
    "mb.formats.lammpsdata.write_lammpsdata(testBox_typed,'/home/phillipt/mosdef/foyer_clp/CLP.lammps',atom_style='full',unit_style='lj',sigma_conversion_factor=1,epsilon_conversion_factor=1,mass_conversion_factor=1\n",
    ")"
   ]
  },
  {
   "cell_type": "code",
   "execution_count": null,
   "metadata": {},
   "outputs": [],
   "source": []
  }
 ],
 "metadata": {
  "kernelspec": {
   "display_name": "Python 3",
   "language": "python",
   "name": "python3"
  },
  "language_info": {
   "codemirror_mode": {
    "name": "ipython",
    "version": 3
   },
   "file_extension": ".py",
   "mimetype": "text/x-python",
   "name": "python",
   "nbconvert_exporter": "python",
   "pygments_lexer": "ipython3",
   "version": "3.6.10"
  }
 },
 "nbformat": 4,
 "nbformat_minor": 2
}
