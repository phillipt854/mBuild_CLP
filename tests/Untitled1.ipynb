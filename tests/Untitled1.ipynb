{
 "cells": [
  {
   "cell_type": "code",
   "execution_count": 1,
   "metadata": {},
   "outputs": [],
   "source": [
    "import mbuild as mb\n",
    "from ONA_box import ONA_box\n",
    "test = ONA_box(['TTT','AGTC'],[2,1,1])"
   ]
  },
  {
   "cell_type": "code",
   "execution_count": 22,
   "metadata": {},
   "outputs": [
    {
     "name": "stdout",
     "output_type": "stream",
     "text": [
      "(<BB pos=(-0.0185, 0.0840,-0.0000), 0 bonds, id: 140527876173048>, <HB pos=( 0.0185, 0.0840,-0.0000), 0 bonds, id: 140527876340032>)\n",
      "(<BB pos=(-0.0185, 0.0000,-0.0000), 0 bonds, id: 140527875850648>, <HB pos=( 0.0185, 0.0000, 0.0000), 0 bonds, id: 140527875903784>)\n",
      "(<BB pos=( 0.4815, 0.0420,-0.0000), 0 bonds, id: 140527875850984>, <BB pos=( 0.4815, 0.1260,-0.0000), 0 bonds, id: 140527875973416>)\n",
      "(<BB pos=(-0.0185, 0.0000,-0.0000), 0 bonds, id: 140527875850648>, <BB pos=(-0.0185,-0.0840, 0.0000), 0 bonds, id: 140527875905632>)\n",
      "(<HB pos=( 0.5185,-0.0420, 0.0000), 0 bonds, id: 140527875655104>, <BB pos=( 0.4815,-0.0420,-0.0000), 0 bonds, id: 140527876097584>)\n",
      "(<BB pos=( 0.4815, 0.0420,-0.0000), 0 bonds, id: 140527875850984>, <BB pos=( 0.4815,-0.0420,-0.0000), 0 bonds, id: 140527876097584>)\n",
      "(<BB pos=( 0.4815,-0.1260, 0.0000), 0 bonds, id: 140527875657008>, <HB pos=( 0.5185,-0.1260, 0.0000), 0 bonds, id: 140527875701952>)\n",
      "(<BB pos=( 0.4815,-0.1260, 0.0000), 0 bonds, id: 140527875657008>, <BB pos=( 0.4815,-0.0420,-0.0000), 0 bonds, id: 140527876097584>)\n",
      "(<BB pos=(-0.0185, 0.0000,-0.0000), 0 bonds, id: 140527875850648>, <BB pos=(-0.0185, 0.0840,-0.0000), 0 bonds, id: 140527876173048>)\n",
      "(<HB pos=( 0.0185,-0.0840, 0.0000), 0 bonds, id: 140527875904848>, <BB pos=(-0.0185,-0.0840, 0.0000), 0 bonds, id: 140527875905632>)\n",
      "(<BB pos=( 0.4815, 0.1260,-0.0000), 0 bonds, id: 140527875973416>, <HB pos=( 0.5185, 0.1260,-0.0000), 0 bonds, id: 140527876022456>)\n",
      "(<BB pos=( 0.4815, 0.0420,-0.0000), 0 bonds, id: 140527875850984>, <HB pos=( 0.5185, 0.0420,-0.0000), 0 bonds, id: 140527876025984>)\n"
     ]
    },
    {
     "ename": "AttributeError",
     "evalue": "'Compound' object has no attribute 'id'",
     "output_type": "error",
     "traceback": [
      "\u001b[0;31m---------------------------------------------------------------------------\u001b[0m",
      "\u001b[0;31mAttributeError\u001b[0m                            Traceback (most recent call last)",
      "\u001b[0;32m<ipython-input-22-5ccb6e54b2ab>\u001b[0m in \u001b[0;36m<module>\u001b[0;34m\u001b[0m\n\u001b[1;32m      4\u001b[0m \u001b[0ma\u001b[0m \u001b[0;34m=\u001b[0m \u001b[0mtest\u001b[0m\u001b[0;34m.\u001b[0m\u001b[0mbonds\u001b[0m\u001b[0;34m(\u001b[0m\u001b[0;34m)\u001b[0m\u001b[0;34m\u001b[0m\u001b[0;34m\u001b[0m\u001b[0m\n\u001b[1;32m      5\u001b[0m \u001b[0mb\u001b[0m \u001b[0;34m=\u001b[0m \u001b[0mnext\u001b[0m\u001b[0;34m(\u001b[0m\u001b[0ma\u001b[0m\u001b[0;34m)\u001b[0m\u001b[0;34m\u001b[0m\u001b[0;34m\u001b[0m\u001b[0m\n\u001b[0;32m----> 6\u001b[0;31m \u001b[0mb\u001b[0m\u001b[0;34m[\u001b[0m\u001b[0;36m0\u001b[0m\u001b[0;34m]\u001b[0m\u001b[0;34m.\u001b[0m\u001b[0mid\u001b[0m\u001b[0;34m(\u001b[0m\u001b[0;34m)\u001b[0m\u001b[0;34m\u001b[0m\u001b[0;34m\u001b[0m\u001b[0m\n\u001b[0m",
      "\u001b[0;31mAttributeError\u001b[0m: 'Compound' object has no attribute 'id'"
     ]
    }
   ],
   "source": [
    "#test.visualize()\n",
    "for p in test.bonds():\n",
    "    print(p)\n",
    "a = test.bonds()\n",
    "b = next(a)\n",
    "b[0] == next()"
   ]
  },
  {
   "cell_type": "code",
   "execution_count": null,
   "metadata": {},
   "outputs": [],
   "source": [
    "testDNA = mb.recipes.DNA('AT')\n",
    "dir(testDNA)"
   ]
  },
  {
   "cell_type": "code",
   "execution_count": null,
   "metadata": {},
   "outputs": [],
   "source": [
    "print(testDNA.children[0].pos)\n",
    "testDNA.children[0].children[1].pos\n"
   ]
  }
 ],
 "metadata": {
  "kernelspec": {
   "display_name": "Python 3",
   "language": "python",
   "name": "python3"
  },
  "language_info": {
   "codemirror_mode": {
    "name": "ipython",
    "version": 3
   },
   "file_extension": ".py",
   "mimetype": "text/x-python",
   "name": "python",
   "nbconvert_exporter": "python",
   "pygments_lexer": "ipython3",
   "version": "3.7.3"
  }
 },
 "nbformat": 4,
 "nbformat_minor": 2
}
